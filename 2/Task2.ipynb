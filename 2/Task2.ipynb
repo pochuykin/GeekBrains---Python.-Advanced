{
 "cells": [
  {
   "cell_type": "code",
   "execution_count": 96,
   "metadata": {},
   "outputs": [],
   "source": [
    "import re\n",
    "import csv\n",
    "\n",
    "def get_data():\n",
    "    os_prod_list, os_name_list, os_code_list, os_type_list = [],[],[],[]\n",
    "    find_list = {\n",
    "        'Изготовитель ОС':1, \n",
    "        'Название ОС':2, \n",
    "        'Код продукта':3, \n",
    "        'Тип системы':4\n",
    "    }\n",
    "    main_data = [[*find_list]]\n",
    "    #print(main_data)\n",
    "    \n",
    "    files = ['data/info_1.txt','data/info_2.txt','data/info_3.txt']\n",
    "    match = r'^('+'|'.join(find_list.keys())+'): *(.*)'\n",
    "    #print(match_values)\n",
    "    for file in files:\n",
    "        #print(file)\n",
    "        main_data += [['','','','']]\n",
    "        for f in open(file):\n",
    "            result = re.findall(match,f)\n",
    "            if len(result) != 0:\n",
    "                name, value = result[0][0:2]\n",
    "                #print(name + value)\n",
    "                n = find_list.get(name,-1)\n",
    "                if n == 1:\n",
    "                    os_prod_list += value\n",
    "                elif n == 2:\n",
    "                    os_name_list += value\n",
    "                elif n == 3:\n",
    "                    os_code_list += value\n",
    "                elif n == 4:\n",
    "                    os_type_list += value\n",
    "                main_data[-1][n-1] = value\n",
    "    #print(main_data) \n",
    "    return main_data\n",
    "           \n",
    "def write_to_csv(file):\n",
    "    data = get_data()\n",
    "    with open(file, 'w') as f:\n",
    "        writer = csv.writer(f,delimiter=';')\n",
    "        for row in data:\n",
    "            writer.writerow(row)\n",
    "    \n",
    "write_to_csv('data/main_data.csv')"
   ]
  },
  {
   "cell_type": "code",
   "execution_count": 184,
   "metadata": {
    "scrolled": true
   },
   "outputs": [],
   "source": [
    "import json\n",
    "\n",
    "def write_to_json(item,quantity,price,buyer,date):\n",
    "    file_name = 'data/orders.json'\n",
    "    write_data = {'item':item,\n",
    "                 'quantity':quantity,\n",
    "                 'price':price,\n",
    "                 'buyer':buyer,\n",
    "                 'date':date}\n",
    "    with open(file_name,'r+') as file:\n",
    "        data = json.load(file)\n",
    "    print(data)\n",
    "    data['orders'] += [write_data]\n",
    "    print(data)\n",
    "    with open(file_name,'w') as file:\n",
    "        json.dump(data,file,indent=4)\n",
    "        \n",
    "write_to_json('Книга',5,999.9,'Mikhail','12.01.2019')"
   ]
  },
  {
   "cell_type": "code",
   "execution_count": 186,
   "metadata": {},
   "outputs": [],
   "source": [
    "import yaml\n",
    "\n",
    "data = {1:['a','b'],2:2,3:{u'3€':''}}\n",
    "\n",
    "with open('data/file.yaml', 'w') as f:\n",
    "    yaml.dump(data, f, default_flow_style=False, allow_unicode=True)\n",
    "\n",
    "with open('data/file.yaml') as f:\n",
    "    print(f.read())"
   ]
  }
 ],
 "metadata": {
  "kernelspec": {
   "display_name": "Python 3",
   "language": "python",
   "name": "python3"
  },
  "language_info": {
   "codemirror_mode": {
    "name": "ipython",
    "version": 3
   },
   "file_extension": ".py",
   "mimetype": "text/x-python",
   "name": "python",
   "nbconvert_exporter": "python",
   "pygments_lexer": "ipython3",
   "version": "3.6.1"
  }
 },
 "nbformat": 4,
 "nbformat_minor": 2
}
